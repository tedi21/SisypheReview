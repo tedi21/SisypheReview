{
 "cells": [
  {
   "cell_type": "code",
   "execution_count": 1,
   "metadata": {},
   "outputs": [
    {
     "name": "stderr",
     "output_type": "stream",
     "text": [
      "Using raw input\n"
     ]
    },
    {
     "data": {
      "text/plain": []
     },
     "execution_count": 1,
     "metadata": {},
     "output_type": "execute_result"
    }
   ],
   "source": [
    ".rawInput"
   ]
  },
  {
   "cell_type": "code",
   "execution_count": 2,
   "metadata": {},
   "outputs": [
    {
     "data": {
      "text/plain": []
     },
     "execution_count": 2,
     "metadata": {},
     "output_type": "execute_result"
    }
   ],
   "source": [
    "#ifndef PERIODIC_THREAD_H\n",
    "#define PERIODIC_THREAD_H\n",
    "#include <functional>\n",
    "#include <memory>\n",
    "#include <condition_variable>\n",
    "#include <chrono>\n",
    "#include <mutex>\n",
    "#include <thread>\n",
    " \n",
    "namespace ExNs\n",
    "{\n",
    "    class periodic_thread\n",
    "    {\n",
    "    public:\n",
    "        periodic_thread();\n",
    " \n",
    "        template<typename Callable, typename... Args>\n",
    "        explicit periodic_thread(const std::chrono::milliseconds& periode,\n",
    "                                 Callable&& fct, Args&&... args)\n",
    "        : periode_(periode),\n",
    "          is_running_(false),\n",
    "          is_notified_(false)\n",
    "        {\n",
    "            fct_ = std::bind(std::forward<Callable>(fct),\n",
    "                             std::forward<Args>(args)...);\n",
    "        }\n",
    " \n",
    "        ~periodic_thread();\n",
    " \n",
    "        periodic_thread(const periodic_thread&) = delete;\n",
    "        periodic_thread& operator=(const periodic_thread&) = delete;\n",
    " \n",
    "        periodic_thread(periodic_thread&&);\n",
    "        periodic_thread& operator=(periodic_thread&&);\n",
    " \n",
    "        void start();\n",
    " \n",
    "    private:\n",
    "        void swap(periodic_thread&&);\n",
    "        void stop();\n",
    "        void do_work();\n",
    " \n",
    "        std::function<bool()> fct_;\n",
    "        std::chrono::milliseconds periode_;\n",
    "        std::chrono::high_resolution_clock::time_point t_;\n",
    "        bool is_running_;\n",
    "        bool is_notified_;\n",
    "        std::condition_variable thread_cond_;\n",
    "        std::mutex thread_mutex_;\n",
    "        std::thread worker_thread_;\n",
    "    };\n",
    "}\n",
    " \n",
    "#endif // PERIODIC_THREAD_H"
   ]
  },
  {
   "cell_type": "code",
   "execution_count": 3,
   "metadata": {},
   "outputs": [
    {
     "data": {
      "text/plain": []
     },
     "execution_count": 3,
     "metadata": {},
     "output_type": "execute_result"
    }
   ],
   "source": [
    "namespace ExNs\n",
    "{\n",
    "    periodic_thread::periodic_thread()\n",
    "        : is_running_(false),\n",
    "          is_notified_(false)\n",
    "    {}\n",
    " \n",
    "    periodic_thread::~periodic_thread()\n",
    "    {\n",
    "        stop();\n",
    "    }\n",
    " \n",
    "    periodic_thread::periodic_thread(periodic_thread&& pt)\n",
    "    {\n",
    "        swap(std::move(pt));\n",
    "    }\n",
    " \n",
    "    periodic_thread& periodic_thread::operator=(periodic_thread&& pt)\n",
    "    {\n",
    "        if (this != &pt)\n",
    "        {\n",
    "            stop();\n",
    "            swap(std::move(pt));\n",
    "        }\n",
    "        return *this;\n",
    "    }\n",
    " \n",
    "    void periodic_thread::start()\n",
    "    {\n",
    "        std::lock_guard<std::mutex> lock(thread_mutex_);\n",
    "        t_ = std::chrono::high_resolution_clock::now();\n",
    "        worker_thread_ = std::thread(&periodic_thread::do_work, this);\n",
    "        is_running_ = true;\n",
    "    }\n",
    " \n",
    "    void periodic_thread::stop()\n",
    "    {\n",
    "        {\n",
    "            std::lock_guard<std::mutex> lock(thread_mutex_);\n",
    "            is_running_ = false;\n",
    "            is_notified_ = true;\n",
    "            thread_cond_.notify_one();\n",
    "        }\n",
    "        if (worker_thread_.joinable())\n",
    "        {\n",
    "            worker_thread_.join();\n",
    "        }\n",
    "    }\n",
    " \n",
    "    void periodic_thread::swap(periodic_thread&& pt)\n",
    "    {\n",
    "        std::unique_lock<std::mutex> lock_a(thread_mutex_, std::defer_lock);\n",
    "        std::unique_lock<std::mutex> lock_b(pt.thread_mutex_, std::defer_lock);\n",
    "        std::lock(lock_a, lock_b);\n",
    " \n",
    "        std::swap(fct_, pt.fct_);\n",
    "        std::swap(periode_, pt.periode_);\n",
    "        std::swap(is_notified_, pt.is_notified_);\n",
    "    }\n",
    " \n",
    "    void periodic_thread::do_work()\n",
    "    {\n",
    "        bool stop = false;\n",
    "        std::unique_lock<std::mutex> lock(thread_mutex_);\n",
    "        while (is_running_ && !stop)\n",
    "        {\n",
    "            // temps suivant\n",
    "            t_ = t_ + periode_;\n",
    " \n",
    "            // boucle pour empêcher les rêveils intempestifs\n",
    "            std::cv_status timeOut = std::cv_status::no_timeout;\n",
    "            while ((!is_notified_) && (timeOut == std::cv_status::no_timeout))\n",
    "            {\n",
    "                // Calcul du temps\n",
    "                std::chrono::high_resolution_clock::time_point t2 =\n",
    "                    std::chrono::high_resolution_clock::now();\n",
    "                std::chrono::milliseconds next =\n",
    "                    std::chrono::duration_cast\n",
    "                        <std::chrono::milliseconds>(t_ - t2);\n",
    "                if (next < std::chrono::milliseconds::zero())\n",
    "                {\n",
    "                    // Retard de plus d'un cycle\n",
    "                    next = periode_;\n",
    "                    t_ = t2 + next;\n",
    "                }\n",
    "                else if (next > periode_)\n",
    "                {\n",
    "                    // En avance\n",
    "                    next = periode_;\n",
    "                    t_ = t2 + next;\n",
    "                }\n",
    "                timeOut = thread_cond_.wait_for(lock, next);\n",
    "            }\n",
    "            is_notified_ = false;\n",
    " \n",
    "            if (is_running_ && fct_)\n",
    "            {\n",
    "                // Tick\n",
    "                lock.unlock();\n",
    "                stop = fct_();\n",
    "                lock.lock();\n",
    "            }\n",
    "            else\n",
    "            {\n",
    "                stop = true;\n",
    "            }\n",
    "        }\n",
    "    }\n",
    "}"
   ]
  },
  {
   "cell_type": "code",
   "execution_count": 4,
   "metadata": {},
   "outputs": [
    {
     "data": {
      "text/plain": []
     },
     "execution_count": 4,
     "metadata": {},
     "output_type": "execute_result"
    }
   ],
   "source": [
    "#include <iostream>"
   ]
  },
  {
   "cell_type": "code",
   "execution_count": 5,
   "metadata": {},
   "outputs": [
    {
     "name": "stderr",
     "output_type": "stream",
     "text": [
      "Not using raw input\n"
     ]
    },
    {
     "data": {
      "text/plain": []
     },
     "execution_count": 5,
     "metadata": {},
     "output_type": "execute_result"
    }
   ],
   "source": [
    ".rawInput"
   ]
  },
  {
   "cell_type": "code",
   "execution_count": 6,
   "metadata": {},
   "outputs": [
    {
     "data": {
      "text/plain": []
     },
     "execution_count": 6,
     "metadata": {},
     "output_type": "execute_result"
    }
   ],
   "source": [
    "{\n",
    "    // Déclaration en tant que membre de classe\n",
    "    ExNs::periodic_thread thread_;\n",
    "\n",
    "    // ...\n",
    "    \n",
    "    thread_ = ExNs::periodic_thread(std::chrono::milliseconds(1000), []() {\n",
    "        std::cout << \"tick\" << std::endl;\n",
    "        return false;\n",
    "    });\n",
    "\n",
    "    thread_.start();\n",
    "}"
   ]
  },
  {
   "cell_type": "markdown",
   "metadata": {},
   "source": [
    "# Threads\n",
    "\n",
    "A partir de C++11, la stl s'est enrichie de nombreuses classes pour la gestion des threads.\n",
    "\n",
    "## Utiliser std::async pour un traitement asynchrone\n",
    "La fonction std::async simplifie la gestion des traitements asynchrones en encapsulant :\n",
    " - la gestion du thread (événement de synchronisation et répartition de charge) \n",
    " - la communication inter-thread à l'aide des std::future.\n",
    "\n",
    "std::async bloque (join) si la fonction asynchrone n'est pas terminée :\n",
    " - lorsque le programme est en attente du retour de la fonction asynchrone\n",
    " - lorsque le programme se termine\n",
    "Elle évite ainsi la mise en place d'événement de synchronisation pour l'ordonnancement des tâches.\n",
    "\n",
    "Le variable de retour std::future permet de récupérer :\n",
    " - le retour de la fonction asynchrone\n",
    " - l'exception lancée dans la fonction asynchrone\n",
    "Elle rend abstrait le partage de variable et de sa gestion.\n",
    "\n",
    "L'utilisation de std::async peut bénéficier des avantages liées à la technologie et aux algorithmes de répartition de charge (pools de threads,vol de travail, ...) grâce à l'implémenteur de la bibliothèque standard.\n",
    "std::async prends comme paramètre par défaut la stratégie `std::launch::async | std::launch::deferred`. Selon l'algorithme de répartition de charge implémenté, le traitement sera soit rééllement asynchrone ou seulement retardée jusqu'au moment où le résultat est attendu. L'appelant peut forcer l'une des stratégies."
   ]
  },
  {
   "cell_type": "code",
   "execution_count": 7,
   "metadata": {},
   "outputs": [
    {
     "name": "stderr",
     "output_type": "stream",
     "text": [
      "Using raw input\n"
     ]
    },
    {
     "data": {
      "text/plain": []
     },
     "execution_count": 7,
     "metadata": {},
     "output_type": "execute_result"
    }
   ],
   "source": [
    ".rawInput"
   ]
  },
  {
   "cell_type": "code",
   "execution_count": 8,
   "metadata": {},
   "outputs": [
    {
     "data": {
      "text/plain": []
     },
     "execution_count": 8,
     "metadata": {},
     "output_type": "execute_result"
    }
   ],
   "source": [
    "#include <future>"
   ]
  },
  {
   "cell_type": "code",
   "execution_count": 9,
   "metadata": {},
   "outputs": [
    {
     "name": "stderr",
     "output_type": "stream",
     "text": [
      "Not using raw input\n"
     ]
    },
    {
     "data": {
      "text/plain": []
     },
     "execution_count": 9,
     "metadata": {},
     "output_type": "execute_result"
    }
   ],
   "source": [
    ".rawInput"
   ]
  },
  {
   "cell_type": "code",
   "execution_count": 10,
   "metadata": {},
   "outputs": [
    {
     "name": "stderr",
     "output_type": "stream",
     "text": [
      "IncrementalExecutor::executeFunction: symbol '__emutls_v._ZSt11__once_call' unresolved while linking function '_GLOBAL__sub_I_cling_module_6'!\n",
      "IncrementalExecutor::executeFunction: symbol '__emutls_v._ZSt15__once_callable' unresolved while linking function '_GLOBAL__sub_I_cling_module_6'!\n"
     ]
    },
    {
     "name": "stdout",
     "output_type": "stream",
     "text": [
      "Total Time Taken = 0 Seconds\n",
      "Data = \n"
     ]
    },
    {
     "data": {
      "text/plain": [
       "(std::basic_ostream<char, std::char_traits<char> >::__ostream_type &) @0x7f562c1a63a0\n"
      ]
     },
     "execution_count": 10,
     "metadata": {},
     "output_type": "execute_result"
    }
   ],
   "source": [
    "// Get Start Time\n",
    "std::chrono::system_clock::time_point start = std::chrono::system_clock::now();\n",
    "\n",
    "auto lambda = [](auto&& data)\n",
    "{\n",
    "    std::this_thread::sleep_for(std::chrono::seconds(5));\n",
    "    return std::string(\"readDB_\") + data;\n",
    "};\n",
    "\n",
    "std::future<std::string> resultFromDB = std::async(lambda, \"Parameter\");\n",
    " \n",
    "int i = 5;\n",
    "while (i > 0)\n",
    "{\n",
    "    std::cout << i << \"s ... \";\n",
    "    std::this_thread::sleep_for(std::chrono::seconds(1));\n",
    "    --i;\n",
    "}\n",
    " \n",
    "//Fetch Data from DB\n",
    "// Will block till data is available in future<std::string> object.\n",
    "std::string dbData = resultFromDB.get();\n",
    " \n",
    "// Get End Time\n",
    "auto end = std::chrono::system_clock::now();\n",
    " \n",
    "auto diff = std::chrono::duration_cast < std::chrono::seconds > (end - start).count();\n",
    "std::cout << \"Total Time Taken = \" << diff << \" Seconds\" << std::endl;\n",
    "\n",
    "//Printing Data\n",
    "std::cout << \"Data = \" << dbData << std::endl;\n"
   ]
  },
  {
   "cell_type": "code",
   "execution_count": null,
   "metadata": {},
   "outputs": [],
   "source": []
  }
 ],
 "metadata": {
  "kernelspec": {
   "display_name": "C++17",
   "language": "C++",
   "name": "cling-cpp17"
  },
  "language_info": {
   "codemirror_mode": "c++",
   "file_extension": ".c++",
   "mimetype": "text/x-c++src",
   "name": "c++"
  }
 },
 "nbformat": 4,
 "nbformat_minor": 2
}
