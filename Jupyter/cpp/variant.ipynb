{
 "cells": [
  {
   "cell_type": "code",
   "execution_count": 1,
   "metadata": {},
   "outputs": [
    {
     "name": "stderr",
     "output_type": "stream",
     "text": [
      "Using raw input\n"
     ]
    },
    {
     "data": {
      "text/plain": []
     },
     "execution_count": 1,
     "metadata": {},
     "output_type": "execute_result"
    }
   ],
   "source": [
    ".rawInput"
   ]
  },
  {
   "cell_type": "code",
   "execution_count": 2,
   "metadata": {},
   "outputs": [
    {
     "data": {
      "text/plain": []
     },
     "execution_count": 2,
     "metadata": {},
     "output_type": "execute_result"
    }
   ],
   "source": [
    "#include <variant>\n",
    "#include <type_traits>\n",
    "#include <cstdint>\n",
    "#include <iostream>\n",
    "\n",
    "class NumericOp\n",
    "{\n",
    "public:\n",
    "    NumericOp()\n",
    "    : numeric(static_cast<int64_t>(0))\n",
    "    {}\n",
    "    \n",
    "    // Implicite conversion entière\n",
    "    template <typename T, typename IntegralT = std::enable_if_t<std::is_integral_v<T> > >\n",
    "    NumericOp(T i)\n",
    "    : numeric(static_cast<int64_t>(i))\n",
    "    {}\n",
    "    \n",
    "    // Implicite conversion réélle\n",
    "    template <typename T, typename IntegralT = void, typename FloatingT = std::enable_if_t<std::is_floating_point_v<T> > >\n",
    "    NumericOp(T d)\n",
    "    : numeric(static_cast<double>(d))\n",
    "    {}\n",
    "\n",
    "    // Explicite conversion vers un type \"Integral\" \n",
    "    template <typename T, typename IntegralT = std::enable_if_t<std::is_integral_v<T> > >\n",
    "    explicit operator T() const\n",
    "    {\n",
    "        return static_cast<T>(std::get<int64_t>(numeric));\n",
    "    }    \n",
    "    \n",
    "    // Explicite conversion vers un type \"Floating point\"\n",
    "    template <typename T, typename IntegralT = void, typename FloatingT = std::enable_if_t<std::is_floating_point_v<T> > >\n",
    "    explicit operator T() const\n",
    "    {\n",
    "        return static_cast<T>(std::get<double>(numeric));\n",
    "    }\n",
    "    \n",
    "    NumericOp operator/(const NumericOp& rhs) const\n",
    "    {\n",
    "        return std::visit([](auto&& arg1, auto&& arg2){return NumericOp(arg1 / arg2);}, numeric, rhs.numeric);\n",
    "    }\n",
    "\n",
    "    friend std::ostream& operator<<(std::ostream& out, const NumericOp& n);  \n",
    "    \n",
    "private:\n",
    "    std::variant<int64_t,double> numeric;\n",
    "};\n",
    "\n",
    "std::ostream& operator<<(std::ostream& os, const NumericOp& n)\n",
    "{\n",
    "    std::visit([&os](auto&& arg){os << arg;}, n.numeric);\n",
    "    return os;\n",
    "} "
   ]
  },
  {
   "cell_type": "code",
   "execution_count": 3,
   "metadata": {},
   "outputs": [
    {
     "name": "stderr",
     "output_type": "stream",
     "text": [
      "Not using raw input\n"
     ]
    },
    {
     "data": {
      "text/plain": []
     },
     "execution_count": 3,
     "metadata": {},
     "output_type": "execute_result"
    }
   ],
   "source": [
    ".rawInput"
   ]
  },
  {
   "cell_type": "code",
   "execution_count": 4,
   "metadata": {},
   "outputs": [
    {
     "name": "stdout",
     "output_type": "stream",
     "text": [
      "division entière : 2, réelle : 2.66667\n"
     ]
    },
    {
     "data": {
      "text/plain": [
       "(std::basic_ostream<char, std::char_traits<char> >::__ostream_type &) @0x7f579ac2ee40\n"
      ]
     },
     "execution_count": 4,
     "metadata": {},
     "output_type": "execute_result"
    }
   ],
   "source": [
    "unsigned short divisor = 3U;\n",
    "NumericOp a(8), b(8.0);\n",
    "NumericOp e = a / divisor;\n",
    "NumericOp r = b / divisor;\n",
    "\n",
    "std::cout << \"division entière : \" << e << \", réelle : \" << r << std::endl;"
   ]
  },
  {
   "cell_type": "code",
   "execution_count": 5,
   "metadata": {},
   "outputs": [
    {
     "name": "stdout",
     "output_type": "stream",
     "text": [
      "5.66667\n"
     ]
    },
    {
     "data": {
      "text/plain": [
       "(std::basic_ostream<char, std::char_traits<char> >::__ostream_type &) @0x7f579ac2ee40\n"
      ]
     },
     "execution_count": 5,
     "metadata": {},
     "output_type": "execute_result"
    }
   ],
   "source": [
    "float c = 3.0;\n",
    "// operateur de cast pour la compatibilité avec les fonctions prenant un type float.\n",
    "std::cout << (c + static_cast<float>(r)) << std::endl;"
   ]
  },
  {
   "cell_type": "code",
   "execution_count": null,
   "metadata": {},
   "outputs": [],
   "source": []
  }
 ],
 "metadata": {
  "kernelspec": {
   "display_name": "C++17",
   "language": "C++",
   "name": "cling-cpp17"
  },
  "language_info": {
   "codemirror_mode": "c++",
   "file_extension": ".c++",
   "mimetype": "text/x-c++src",
   "name": "c++"
  }
 },
 "nbformat": 4,
 "nbformat_minor": 2
}
