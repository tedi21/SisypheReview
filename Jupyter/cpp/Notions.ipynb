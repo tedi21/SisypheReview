{
 "cells": [
  {
   "cell_type": "markdown",
   "metadata": {},
   "source": [
    "# Notions abordées\n",
    "\n",
    "A travers les exemples, plusieurs notions seront abordées de manières récurrentes. Ces notions sont importantes dans le langage C++. \n",
    "\n",
    "## Comprendre le déplacement et les références rvalue\n",
    "La notion la plus complexe à appréhender est sans doute les références rvalue. Les références rvalue sont utilisées pour permettre le déplacement d'objet. En C++98, il existe une fonctions `std::swap` qui permet l'échange de valeur. Par exemple, `int a[5] = { 1, 2, 3, 4, 5}, b[5] = {}; std::swap(a,b);` permet de *déplacer* le tableau *a* vers le tableau *b*. Cette fonction peut être surchargée pour tous types, elle évite une copie et elle permet de transférer un objet qui n'a pas volonté à être dupliqué (via une relation d'amitié `friend`). A partir du C++11, l'idée de déplacer un objet a été généralisée et modernisée grâce à la notation `&&`. Une référence rvalue s'accompagne toujours de la fonction `std::move`. La fonction `std::move` s'apparente à un cast en référence rvalue. Le déplacement est généralement implémenté pour des objets proposant des services de recopie de gros objets ou pour des objets détenant une ressource unique (mutex, thread, ...) à l'aide : \n",
    " - du constructeur de déplacement: class(class&&)\n",
    " - de l'opérateur de déplacement: class& operator=(class&&)"
   ]
  },
  {
   "cell_type": "code",
   "execution_count": 1,
   "metadata": {},
   "outputs": [
    {
     "name": "stderr",
     "output_type": "stream",
     "text": [
      "Using raw input\n"
     ]
    },
    {
     "data": {
      "text/plain": []
     },
     "execution_count": 1,
     "metadata": {},
     "output_type": "execute_result"
    }
   ],
   "source": [
    ".rawInput"
   ]
  },
  {
   "cell_type": "code",
   "execution_count": 2,
   "metadata": {},
   "outputs": [
    {
     "data": {
      "text/plain": []
     },
     "execution_count": 2,
     "metadata": {},
     "output_type": "execute_result"
    }
   ],
   "source": [
    "#include <iostream>\n",
    "#include <array>\n",
    "#include <memory>\n",
    "\n",
    "class Buffer\n",
    "{\n",
    "private:\n",
    "    using array_int5_t = std::array<int,5>;\n",
    "    array_int5_t tableau;\n",
    "public:   \n",
    "    // Constructeur prenant une référence lvalue\n",
    "    Buffer(const array_int5_t& a)\n",
    "    : tableau(a)\n",
    "    {\n",
    "        std::cout << \"copie de tableau\" << std::endl;\n",
    "    }\n",
    "    \n",
    "    // Constructeur prenant une référence rvalue\n",
    "    Buffer(array_int5_t&& a)\n",
    "    : tableau(std::move(a))\n",
    "    {\n",
    "        std::cout << \"déplacement de tableau\" << std::endl;\n",
    "    }\n",
    "    \n",
    "    // Constructeur par recopie\n",
    "    Buffer(const Buffer& b)\n",
    "    :tableau(b.tableau)\n",
    "    {\n",
    "        std::cout << \"recopie de buffer\" << std::endl;\n",
    "    }\n",
    "    \n",
    "    // Constructeur par déplacement\n",
    "    Buffer(Buffer&& b)\n",
    "    :tableau(std::move(b.tableau))\n",
    "    {\n",
    "        std::cout << \"déplacement de buffer\" << std::endl;\n",
    "    }\n",
    "};\n",
    "             \n",
    "Buffer createBuffer()\n",
    "{\n",
    "    return {{1,2,3,4,5}};    \n",
    "}\n"
   ]
  },
  {
   "cell_type": "code",
   "execution_count": 3,
   "metadata": {},
   "outputs": [
    {
     "name": "stderr",
     "output_type": "stream",
     "text": [
      "Not using raw input\n"
     ]
    },
    {
     "data": {
      "text/plain": []
     },
     "execution_count": 3,
     "metadata": {},
     "output_type": "execute_result"
    }
   ],
   "source": [
    ".rawInput"
   ]
  },
  {
   "cell_type": "code",
   "execution_count": 4,
   "metadata": {},
   "outputs": [
    {
     "name": "stdout",
     "output_type": "stream",
     "text": [
      "b1 copie de tableau\n",
      "b2 déplacement de tableau\n",
      "b3 déplacement de tableau\n",
      "b4 recopie de buffer\n",
      "b5 déplacement de tableau\n",
      "déplacement de buffer\n"
     ]
    },
    {
     "data": {
      "text/plain": [
       "(std::_MakeUniq<Buffer>::__single_object) @0x7fd439090b50\n"
      ]
     },
     "execution_count": 4,
     "metadata": {},
     "output_type": "execute_result"
    }
   ],
   "source": [
    "std::array<int,5> a{1, 2, 3, 4, 5};\n",
    "\n",
    "std::cout << \"b1 \";\n",
    "Buffer b1(a);\n",
    "\n",
    "std::cout << \"b2 \";\n",
    "Buffer b2({1, 2, 3, 4 , 5});\n",
    "\n",
    "std::cout << \"b3 \";\n",
    "Buffer b3(createBuffer()); // RVO : return value optimization\n",
    "\n",
    "std::cout << \"b4 \";\n",
    "Buffer b4(b1);\n",
    "\n",
    "std::cout << \"b5 \";\n",
    "std::make_unique<Buffer>(createBuffer()); // Déplacement du tableau dans un buffer, puis du buffer dans un pointeur."
   ]
  },
  {
   "cell_type": "markdown",
   "metadata": {},
   "source": [
    "__Remarque__: Un objet est déplacé seulement si celui-ci est éligible au déplacement. Par exemple, un objet `const` ou les anciennes classes implémentées en C++98 ne sont pas éligibles au déplacement. Une opération de copie est réalisée à la place.\n",
    "\n",
    "__Remarque 2__: Un retour de fonction est toujours optimisé par le compilateur. Il ne faut pas jamais définir de rvalue sur les retours de fonction."
   ]
  },
  {
   "cell_type": "code",
   "execution_count": 5,
   "metadata": {},
   "outputs": [
    {
     "name": "stdout",
     "output_type": "stream",
     "text": [
      "b6 déplacement de tableau\n",
      "recopie de buffer\n"
     ]
    },
    {
     "data": {
      "text/plain": [
       "(std::_MakeUniq<Buffer>::__single_object) @0x7fd439041da0\n"
      ]
     },
     "execution_count": 5,
     "metadata": {},
     "output_type": "execute_result"
    }
   ],
   "source": [
    "const Buffer createConstBuffer()\n",
    "{\n",
    "    return {{1,2,3,4,5}};    \n",
    "}\n",
    "std::cout << \"b6 \";\n",
    "std::make_unique<Buffer>(createConstBuffer());"
   ]
  },
  {
   "cell_type": "markdown",
   "metadata": {},
   "source": [
    "## Comprendre la transmission parfaite et les références universelles\n",
    "L'utilisation des *template* dans des concepts de métaprogrammation a fait émerger une nouvelle problématique : la transmission parfaite des arguments. Pour palier à cet problématique, la notation `&&` pour un argument template ou une variable `auto` signifie que la variable est une référence universelle. Celle-ci indique que la variable peut être soit une référence lvalue ou soit une référence rvalue. Le type de référence est défini par l'appelant. Une référence universelle s'accompagne toujours de la fonction `std::forward`."
   ]
  },
  {
   "cell_type": "code",
   "execution_count": 6,
   "metadata": {},
   "outputs": [
    {
     "name": "stderr",
     "output_type": "stream",
     "text": [
      "Using raw input\n"
     ]
    },
    {
     "data": {
      "text/plain": []
     },
     "execution_count": 6,
     "metadata": {},
     "output_type": "execute_result"
    }
   ],
   "source": [
    ".rawInput"
   ]
  },
  {
   "cell_type": "code",
   "execution_count": 7,
   "metadata": {},
   "outputs": [
    {
     "data": {
      "text/plain": []
     },
     "execution_count": 7,
     "metadata": {},
     "output_type": "execute_result"
    }
   ],
   "source": [
    "int *m = nullptr;\n",
    "\n",
    "// Plusieurs fonctions de mémorisation de données en fonction de son type\n",
    "void memPtr(int& a)\n",
    "{\n",
    "    m = &a;\n",
    "}\n",
    "\n",
    "void memVal(int a)\n",
    "{}\n",
    "\n",
    "// Une fonction template réalisant le lock de la données avant d'appeler la fonction de mémorisation\n",
    "template <typename FctT, typename T>\n",
    "void lockAndMem(FctT fct, T a)\n",
    "{\n",
    "    // appel à la fonction de lock\n",
    "    fct(a);\n",
    "}\n",
    "\n",
    "// Même template mais avec une référence lvalue\n",
    "template <typename FctT, typename T>\n",
    "void lockAndMemRef(FctT fct, T& a)\n",
    "{\n",
    "    // appel à la fonction de lock\n",
    "    fct(a);\n",
    "}\n",
    "\n",
    "// Même template mais avec une référence univeselle\n",
    "template <typename FctT, typename T>\n",
    "void lockAndMemUni(FctT fct, T&& a)\n",
    "{\n",
    "    // appel à la fonction de lock\n",
    "    fct(std::forward<T>(a));\n",
    "}"
   ]
  },
  {
   "cell_type": "code",
   "execution_count": 8,
   "metadata": {},
   "outputs": [
    {
     "name": "stderr",
     "output_type": "stream",
     "text": [
      "Not using raw input\n"
     ]
    },
    {
     "data": {
      "text/plain": []
     },
     "execution_count": 8,
     "metadata": {},
     "output_type": "execute_result"
    }
   ],
   "source": [
    ".rawInput"
   ]
  },
  {
   "cell_type": "code",
   "execution_count": 9,
   "metadata": {},
   "outputs": [
    {
     "name": "stdout",
     "output_type": "stream",
     "text": [
      "mauvaise sauvegarde : pointeur sur une variable locale\n",
      "bonne sauvegarde\n"
     ]
    },
    {
     "data": {
      "text/plain": []
     },
     "execution_count": 9,
     "metadata": {},
     "output_type": "execute_result"
    }
   ],
   "source": [
    "int i = 10;\n",
    "lockAndMem(&memPtr, i);\n",
    "if (m != &i) std::cout << \"mauvaise sauvegarde : pointeur sur une variable locale\" << std::endl;\n",
    "\n",
    "// Cela ne fonctionne pas, ajoutons une référence au template\n",
    "lockAndMemRef(&memPtr, i);\n",
    "if (m == &i) std::cout << \"bonne sauvegarde\" << std::endl;  \n"
   ]
  },
  {
   "cell_type": "code",
   "execution_count": 10,
   "metadata": {},
   "outputs": [
    {
     "data": {
      "text/plain": []
     },
     "execution_count": 10,
     "metadata": {},
     "output_type": "execute_result"
    }
   ],
   "source": [
    "//lockAndMemRef(&memVal, 10); // Echoue car 10 est une rvalue."
   ]
  },
  {
   "cell_type": "code",
   "execution_count": 11,
   "metadata": {},
   "outputs": [
    {
     "name": "stdout",
     "output_type": "stream",
     "text": [
      "bonne sauvegarde\n"
     ]
    },
    {
     "data": {
      "text/plain": [
       "(void) @0x7fd452ffbb18\n"
      ]
     },
     "execution_count": 11,
     "metadata": {},
     "output_type": "execute_result"
    }
   ],
   "source": [
    "// Fonctionne dans tous les cas\n",
    "lockAndMemUni(&memPtr, i);\n",
    "if (m == &i) std::cout << \"bonne sauvegarde\" << std::endl; \n",
    "lockAndMemUni(&memVal, 10);"
   ]
  },
  {
   "cell_type": "markdown",
   "metadata": {},
   "source": [
    "## Comprendre auto\n",
    "\n",
    "Le mot clé `auto` indique que l'on laisse le compilateur déduire le type. Le livre *Programmer efficacement en C++, ScottMeyers* donne le conseil de préférer l'utilisation de `auto` aux déclarations de type explicite. Afin de ne pas nuire à la lisibilité du code, il semble raisonnable de dire \"préférer l'utilisation de `auto` aux déclarations de type explicite pour les types complexes\". Une variable `auto` nécessite d'être initialisée (normal puisque le compilateur doit déduire son type). Outre l'avantage de forcer le developpeur à initialiser ses variables avec une valeur, les avantages sont :\n",
    " - de faciliter la syntaxe de types complexes comme les types à l'intérieur des conteneurs de la STL.\n",
    " - de creer des variables à partir d'expressions lambdas\n",
    " - d'éviter les erreurs de types introduisant des conversions implicites (et donc une baisse des performances)"
   ]
  },
  {
   "cell_type": "code",
   "execution_count": 12,
   "metadata": {},
   "outputs": [
    {
     "name": "stderr",
     "output_type": "stream",
     "text": [
      "Using raw input\n"
     ]
    },
    {
     "data": {
      "text/plain": []
     },
     "execution_count": 12,
     "metadata": {},
     "output_type": "execute_result"
    }
   ],
   "source": [
    ".rawInput"
   ]
  },
  {
   "cell_type": "code",
   "execution_count": 13,
   "metadata": {},
   "outputs": [
    {
     "data": {
      "text/plain": []
     },
     "execution_count": 13,
     "metadata": {},
     "output_type": "execute_result"
    }
   ],
   "source": [
    "#include <iostream>\n",
    "#include <typeinfo>\n",
    "#include <memory>\n",
    "#include <unordered_map>\n",
    "#include <functional>\n",
    "\n",
    "#include <cxxabi.h>\n",
    "std::string demangle( const char* mangled_name ) \n",
    "{\n",
    "    std::size_t len = 0 ;\n",
    "    int status = 0 ;\n",
    "    std::unique_ptr< char, decltype(&std::free) > ptr(\n",
    "                __cxxabiv1::__cxa_demangle( mangled_name, nullptr, &len, &status ), &std::free ) ;\n",
    "    return ptr.get() ;\n",
    "}\n",
    "\n",
    "struct example\n",
    "{\n",
    "    int val;\n",
    "    \n",
    "    example(int a)\n",
    "    : val(a)\n",
    "    {}\n",
    "    example(const example& o)\n",
    "    : val(o.val)\n",
    "    {\n",
    "        std::cout << \"copie\" << std::endl;\n",
    "    }\n",
    "    ~example()\n",
    "    {\n",
    "        std::cout << \"destruction\" << std::endl;\n",
    "    }\n",
    "    \n",
    "    bool operator==(const example& o) const\n",
    "    {\n",
    "        return val == o.val;\n",
    "    }\n",
    "};\n",
    "\n",
    "namespace std\n",
    "{\n",
    "    template <> \n",
    "    struct hash<example>\n",
    "    {\n",
    "        size_t operator()(const example& x) const\n",
    "        {\n",
    "            return hash<int>()(x.val);\n",
    "        }\n",
    "    };\n",
    "}"
   ]
  },
  {
   "cell_type": "code",
   "execution_count": 14,
   "metadata": {},
   "outputs": [
    {
     "name": "stderr",
     "output_type": "stream",
     "text": [
      "Not using raw input\n"
     ]
    },
    {
     "data": {
      "text/plain": []
     },
     "execution_count": 14,
     "metadata": {},
     "output_type": "execute_result"
    }
   ],
   "source": [
    ".rawInput"
   ]
  },
  {
   "cell_type": "code",
   "execution_count": 15,
   "metadata": {},
   "outputs": [
    {
     "name": "stdout",
     "output_type": "stream",
     "text": [
      "Type lambda : __cling_Un1Qu37(void*)::$_0\n",
      "\n",
      "Type du contenu dans umap : std::pair<example const, std::__cxx11::basic_string<char, std::char_traits<char>, std::allocator<char> > >\n",
      "Type du contenu dans umap : std::pair<example const, std::__cxx11::basic_string<char, std::char_traits<char>, std::allocator<char> > >\n",
      "\n",
      "Conversion implicite dûe à une erreur de type : \n",
      "copie\n",
      "destruction\n",
      "copie\n",
      "destruction\n"
     ]
    },
    {
     "data": {
      "text/plain": []
     },
     "execution_count": 15,
     "metadata": {},
     "output_type": "execute_result"
    }
   ],
   "source": [
    "auto base = 0;\n",
    "auto lambda = [&base](int a, int b) { return (a + b) % base;};\n",
    "std::cout << \"Type lambda : \" << demangle(typeid(lambda).name()) << std::endl << std::endl;\n",
    "\n",
    "std::unordered_map<example,std::string> umap;\n",
    "umap.insert(std::make_pair(21, \"Hello\"));\n",
    "umap.insert(std::make_pair(28, \"World\"));\n",
    "// Transmission parfaite du type contenu dans umap\n",
    "for (auto&& elem : umap)\n",
    "{\n",
    "    std::cout << \"Type du contenu dans umap : \" << demangle(typeid(elem).name()) << std::endl;\n",
    "}\n",
    "\n",
    "std::cout << std::endl << \"Conversion implicite dûe à une erreur de type : \" << std::endl;\n",
    "// le type de elem est std::pair<const example, std::string>\n",
    "// de manière naïve, on aurait pu écrire : \n",
    "\n",
    "for (const std::pair<example, std::string>& elem : umap)\n",
    "{\n",
    "    // Récupération d'un pointeur sur une variable locale alors que l'on \n",
    "    // croit récupérer un pointeur sur l'élément contenu\n",
    "    \n",
    "    const std::pair<example, std::string>* ptr = &elem;\n",
    "}"
   ]
  },
  {
   "cell_type": "markdown",
   "metadata": {},
   "source": [
    "## Comprendre nullptr\n",
    "Le mot clé `nullptr` permet d'indiquer un pointeur nul. A la différence de NULL qui est de type `int`, `nullptr` est de type pointeur. Il est donc indispensable d'utiliser `nullptr` pour bénéficier de la déduction des types."
   ]
  },
  {
   "cell_type": "code",
   "execution_count": 16,
   "metadata": {},
   "outputs": [
    {
     "name": "stderr",
     "output_type": "stream",
     "text": [
      "Using raw input\n"
     ]
    },
    {
     "data": {
      "text/plain": []
     },
     "execution_count": 16,
     "metadata": {},
     "output_type": "execute_result"
    }
   ],
   "source": [
    ".rawInput"
   ]
  },
  {
   "cell_type": "code",
   "execution_count": 17,
   "metadata": {},
   "outputs": [
    {
     "data": {
      "text/plain": []
     },
     "execution_count": 17,
     "metadata": {},
     "output_type": "execute_result"
    }
   ],
   "source": [
    "template <typename FctT, typename T>\n",
    "void logAndCall(FctT fct, T&& ptr)\n",
    "{\n",
    "    // appel à la fonction de log\n",
    "    fct(std::forward<T>(ptr));\n",
    "}\n",
    "\n",
    "void fonction(int* ptr)\n",
    "{}"
   ]
  },
  {
   "cell_type": "code",
   "execution_count": 18,
   "metadata": {},
   "outputs": [
    {
     "name": "stderr",
     "output_type": "stream",
     "text": [
      "Not using raw input\n"
     ]
    },
    {
     "data": {
      "text/plain": []
     },
     "execution_count": 18,
     "metadata": {},
     "output_type": "execute_result"
    }
   ],
   "source": [
    ".rawInput"
   ]
  },
  {
   "cell_type": "code",
   "execution_count": 19,
   "metadata": {},
   "outputs": [
    {
     "data": {
      "text/plain": [
       "(void) @0x7fd452ffbb18\n"
      ]
     },
     "execution_count": 19,
     "metadata": {},
     "output_type": "execute_result"
    }
   ],
   "source": [
    "logAndCall(fonction, nullptr);\n",
    "//logAndCall(fonction, NULL); //échoue car NULL n'est pas un pointeur"
   ]
  },
  {
   "cell_type": "markdown",
   "metadata": {},
   "source": [
    "## Comprendre la génération des fonctions membres spéciales\n",
    "\n",
    "Les fonctions membres spéciales sont les fonctions générées automatiquement par le compilateur. On en connaît déjà 4 :\n",
    " - Le constructeur par défaut\n",
    " - Le destructeur\n",
    " - Le constructeur de recopie\n",
    " - L'opérateur de copie.\n",
    "\n",
    "Le C++11 ajoute au 4 premiers :\n",
    " - Le constructeur de déplacement\n",
    " - L'opérateur de déplacement\n",
    "\n",
    "Le comportement par défaut pour ces deux opérations est un déplacement membre à membre de la classe.\n",
    "Cependant, les règles de génération se sont un peu plus durcies par rapport à C++98 pour ces deux nouveaux. Pour les 4 premiers, la génération est indépendante, c'est à dire que si on déclare un destructeur, le constructeur de recopie et l'opérateur de copie sont quand même générés. Souvent, ce comportement n'est pas souhaité car si l'on déclare un destructeur, c'est qu'une ressource est détenue par la classe et nécessite une implémentation spéciale pour sa copie. Ce qui à engendré la règle de codage que tous le monde connaît qui est d'implémenter le destructeur, le constructeur de recopie et l'opérateur de copie lorsque la classe alloue une ressource.\n",
    "Avec les deux nouveaux, le problème ne se pose pas car elle ne sont pas générés si l'un des points suivants est vérifié :\n",
    " - Le destructeur est déclaré\n",
    " - Le constructeur de recopie ou l'opérateur de copie est déclaré\n",
    " - Une opération de déplacement est déclaré\n",
    "\n",
    "Pour le dernier point, cela s'explique par le fait que s'il existe une implémentation pour le constructeur de déplacement, alors la génération du comportement par défaut pour l'opérateur de déplacement ne convient pas. Le raisonnement inverse est identique. \n",
    "\n",
    "De plus, si une opération de déplacement est déclarée, les opérations de recopie ne sont pas générées.\n",
    "\n",
    "Ces règles sont importantes. Prenons l'exemple que l'on crée un destructeur pour pouvoir tracer les appels, cette pratique va avoir un effet indésirable car à la place d'utiliser les opérations de déplacement parfaitement valides, le compilateur utilise les opérations de recopie pouvant être beaucoup plus coûteuses. Pour éviter cela, il est possible d'utiliser le mot clé `default` pour signifier que le comportement de déplacement par défaut est valide.\n",
    "\n",
    "Une autre utilisation du mot clé `default` est l'utilisation pour le destructeur virtuel des classes de base. En effet, une règle du C++ impose de déclarer un destructeur virtuel de la classe de base pour permettre la désallocation complète de l'objet lors de l'utilisation de polymorphisme dynamique. Ce destructeur ne fait rien et le comportement par défaut est adapté au besoin."
   ]
  },
  {
   "cell_type": "code",
   "execution_count": 20,
   "metadata": {},
   "outputs": [
    {
     "name": "stdout",
     "output_type": "stream",
     "text": [
      "b7 recopie de buffer\n",
      "b8 "
     ]
    },
    {
     "data": {
      "text/plain": [
       "(std::_MakeUniq<BufferDeplacement>::__single_object) @0x7fd439ccb810\n"
      ]
     },
     "execution_count": 20,
     "metadata": {},
     "output_type": "execute_result"
    }
   ],
   "source": [
    "class BufferCopie\n",
    "{\n",
    "public:\n",
    "    BufferCopie()\n",
    "    {}\n",
    "\n",
    "    BufferCopie(const BufferCopie& b)\n",
    "    {\n",
    "        std::cout << \"recopie de buffer\" << std::endl;\n",
    "    }\n",
    "};\n",
    "\n",
    "class BufferDeplacement\n",
    "{\n",
    "public:\n",
    "    BufferDeplacement()\n",
    "    {}\n",
    "\n",
    "    BufferDeplacement(const BufferDeplacement& b)\n",
    "    {\n",
    "        std::cout << \"recopie de buffer\" << std::endl;\n",
    "    }\n",
    "    \n",
    "    BufferDeplacement(BufferDeplacement&& b) = default;\n",
    "};\n",
    "// Pas de génération du constructeur de déplacement car le constructeur de recopie est défini.\n",
    "// Appel au constructeur de recopie\n",
    "std::cout << \"b7 \";\n",
    "std::make_unique<BufferCopie>(BufferCopie());\n",
    "\n",
    "// Le constructeur de recopie est défini et le constructeur de déplacement est défini avec le comportement par défaut.\n",
    "// Appel au constructeur de déplacement\n",
    "std::cout << \"b8 \";\n",
    "std::make_unique<BufferDeplacement>(BufferDeplacement());\n",
    "\n",
    "// Définition d'une classe interface\n",
    "class INotifier\n",
    "{\n",
    "public:\n",
    "    // Déclaration du destructeur virtuel pour l'appel au destructeur de la classe héritée lors de l'utilisation du \n",
    "    // polymorphisme dynamique\n",
    "    virtual ~INotifier() = default;\n",
    "    virtual Notify() = 0;\n",
    "};"
   ]
  },
  {
   "cell_type": "markdown",
   "metadata": {},
   "source": [
    "## Comprendre les fonctions supprimés\n",
    "La génération des fonctions membres spéciales est parfois non souhaitée. Par exemple, la copie de classes de gestion d'entrées/sorties n'est pas vraiment un concept définissable : le port d'entrée doit-il être réinitialisé ? ou partagé ? Il est plus simple de d'interdire la copie de telle classe. Le mot-clé `delete` permet d'indiquer qu'une fonction est interdite. "
   ]
  },
  {
   "cell_type": "code",
   "execution_count": 4,
   "metadata": {},
   "outputs": [
    {
     "data": {
      "text/plain": []
     },
     "execution_count": 4,
     "metadata": {},
     "output_type": "execute_result"
    }
   ],
   "source": [
    "class CopieInterdite\n",
    "{\n",
    "public:\n",
    "    CopieInterdite()\n",
    "    {}\n",
    "    CopieInterdite(const CopieInterdite&) = delete;\n",
    "    CopieInterdite& operator=(const CopieInterdite&) = delete;\n",
    "};\n",
    "\n",
    "CopieInterdite A, B;\n",
    "//CopieInterdite C(A);\n",
    "//B = A;"
   ]
  },
  {
   "cell_type": "markdown",
   "metadata": {},
   "source": [
    "## Comprendre les fonctions de substitutions"
   ]
  },
  {
   "cell_type": "markdown",
   "metadata": {},
   "source": [
    "## Comprendre constexpr\n",
    "\n",
    "## Comprendre noexcept\n",
    "\n",
    "## Comprendre using\n",
    "\n",
    "## Comprendre decltype\n",
    "\n",
    "## Comprendre enum class\n",
    "\n",
    "## Comprendre les initializers"
   ]
  },
  {
   "cell_type": "code",
   "execution_count": null,
   "metadata": {},
   "outputs": [],
   "source": []
  },
  {
   "cell_type": "code",
   "execution_count": null,
   "metadata": {},
   "outputs": [],
   "source": []
  }
 ],
 "metadata": {
  "kernelspec": {
   "display_name": "C++17",
   "language": "C++",
   "name": "cling-cpp17"
  },
  "language_info": {
   "codemirror_mode": "c++",
   "file_extension": ".c++",
   "mimetype": "text/x-c++src",
   "name": "c++"
  }
 },
 "nbformat": 4,
 "nbformat_minor": 2
}
